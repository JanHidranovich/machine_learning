{
  "nbformat": 4,
  "nbformat_minor": 0,
  "metadata": {
    "colab": {
      "provenance": [],
      "authorship_tag": "ABX9TyOzpbTmOxh1LW4Pf6UZ8uAA",
      "include_colab_link": true
    },
    "kernelspec": {
      "name": "python3",
      "display_name": "Python 3"
    },
    "language_info": {
      "name": "python"
    }
  },
  "cells": [
    {
      "cell_type": "markdown",
      "metadata": {
        "id": "view-in-github",
        "colab_type": "text"
      },
      "source": [
        "<a href=\"https://colab.research.google.com/github/JanHidranovich/machine_learning/blob/main/ae_with_normalization.ipynb\" target=\"_parent\"><img src=\"https://colab.research.google.com/assets/colab-badge.svg\" alt=\"Open In Colab\"/></a>"
      ]
    },
    {
      "cell_type": "code",
      "execution_count": null,
      "metadata": {
        "id": "yFPVayBA1GAG"
      },
      "outputs": [],
      "source": [
        "import numpy as np\n",
        "import matplotlib.pyplot as plt\n",
        "import tensorflow as tf\n",
        "from tensorflow import keras\n",
        "%matplotlib inline\n",
        "from tensorflow.keras.models import Sequential\n",
        "from tensorflow.keras.layers import Dense, Dropout\n",
        "from tensorflow.keras import utils"
      ]
    },
    {
      "cell_type": "code",
      "source": [
        "(x_train, y_train), (x_test, y_test) = keras.datasets.mnist.load_data()\n",
        "\n",
        "x_train = x_train.reshape((60000, 28, 28)) / 255\n",
        "x_test = x_test.reshape((10000, 28, 28)) / 255\n",
        "\n",
        "y_train_cat = keras.utils.to_categorical(y_train, 10)\n",
        "y_test_cat = keras.utils.to_categorical(y_test, 10)\n",
        "hidden_dim = 8"
      ],
      "metadata": {
        "id": "Tv8Pasq01H-Q",
        "colab": {
          "base_uri": "https://localhost:8080/"
        },
        "outputId": "7460231d-67c3-499b-c4dc-38acdd3876cc"
      },
      "execution_count": null,
      "outputs": [
        {
          "output_type": "stream",
          "name": "stdout",
          "text": [
            "Downloading data from https://storage.googleapis.com/tensorflow/tf-keras-datasets/mnist.npz\n",
            "11490434/11490434 [==============================] - 0s 0us/step\n"
          ]
        }
      ]
    },
    {
      "cell_type": "code",
      "source": [
        "def normalize(args):\n",
        "  global z_mean, z_log_var\n",
        "  z_mean, z_log_var = args\n",
        "  N = keras.backend.random_normal(shape=(1, hidden_dim), mean=0.0, stddev=1.0)\n",
        "  return keras.backend.exp(z_log_var / 2) * N + z_mean\n",
        "\n",
        "Input_image = keras.layers.Input(shape=(28, 28))\n",
        "x = keras.layers.Flatten()(Input_image)\n",
        "x = keras.layers.Dense(256, activation=\"relu\")(x)\n",
        "x = keras.layers.Dropout(.3)(keras.layers.BatchNormalization()(x))\n",
        "x = keras.layers.Dense(128)(x)\n",
        "x = keras.layers.Dense(hidden_dim)(x)\n",
        "\n",
        "z_mean = keras.layers.Dense(hidden_dim)(x)\n",
        "z_log_var = keras.layers.Dense(hidden_dim)(x)\n",
        "\n",
        "h = keras.layers.Lambda(normalize, output_shape=(hidden_dim,))([z_mean, z_log_var])\n",
        "Encoder = keras.Model(Input_image, h)\n",
        "Encoder.summary()"
      ],
      "metadata": {
        "id": "6975DrXP1cI_",
        "colab": {
          "base_uri": "https://localhost:8080/"
        },
        "outputId": "3cc54295-13ca-42e8-8659-1a76d376a7cf"
      },
      "execution_count": 14,
      "outputs": [
        {
          "output_type": "stream",
          "name": "stdout",
          "text": [
            "Model: \"model_3\"\n",
            "__________________________________________________________________________________________________\n",
            " Layer (type)                   Output Shape         Param #     Connected to                     \n",
            "==================================================================================================\n",
            " input_3 (InputLayer)           [(None, 28, 28)]     0           []                               \n",
            "                                                                                                  \n",
            " flatten_1 (Flatten)            (None, 784)          0           ['input_3[0][0]']                \n",
            "                                                                                                  \n",
            " dense_8 (Dense)                (None, 256)          200960      ['flatten_1[0][0]']              \n",
            "                                                                                                  \n",
            " batch_normalization_2 (BatchNo  (None, 256)         1024        ['dense_8[0][0]']                \n",
            " rmalization)                                                                                     \n",
            "                                                                                                  \n",
            " dropout_2 (Dropout)            (None, 256)          0           ['batch_normalization_2[0][0]']  \n",
            "                                                                                                  \n",
            " dense_9 (Dense)                (None, 128)          32896       ['dropout_2[0][0]']              \n",
            "                                                                                                  \n",
            " dense_10 (Dense)               (None, 8)            1032        ['dense_9[0][0]']                \n",
            "                                                                                                  \n",
            " dense_11 (Dense)               (None, 8)            72          ['dense_10[0][0]']               \n",
            "                                                                                                  \n",
            " dense_12 (Dense)               (None, 8)            72          ['dense_10[0][0]']               \n",
            "                                                                                                  \n",
            " lambda_1 (Lambda)              (None, 8)            0           ['dense_11[0][0]',               \n",
            "                                                                  'dense_12[0][0]']               \n",
            "                                                                                                  \n",
            "==================================================================================================\n",
            "Total params: 236,056\n",
            "Trainable params: 235,544\n",
            "Non-trainable params: 512\n",
            "__________________________________________________________________________________________________\n"
          ]
        }
      ]
    },
    {
      "cell_type": "code",
      "source": [
        "Input_hidden_vector = keras.layers.Input(shape=(hidden_dim,))\n",
        "y = keras.layers.Dense(128)(Input_hidden_vector)\n",
        "y = keras.layers.Dropout(.3)(keras.layers.BatchNormalization()(y))\n",
        "y = keras.layers.Dense(256)(y)\n",
        "y = keras.layers.Dense(784, activation='sigmoid')(y)\n",
        "Output_image = keras.layers.Reshape((28,28, 1))(y)\n",
        "Decoder = keras.Model(Input_hidden_vector, Output_image)\n",
        "Decoder.summary()"
      ],
      "metadata": {
        "colab": {
          "base_uri": "https://localhost:8080/"
        },
        "id": "khcPwGrwNwS3",
        "outputId": "38e4f5e1-b158-4cd5-d902-9716c990327d"
      },
      "execution_count": null,
      "outputs": [
        {
          "output_type": "stream",
          "name": "stdout",
          "text": [
            "Model: \"model_1\"\n",
            "_________________________________________________________________\n",
            " Layer (type)                Output Shape              Param #   \n",
            "=================================================================\n",
            " input_2 (InputLayer)        [(None, 8)]               0         \n",
            "                                                                 \n",
            " dense_5 (Dense)             (None, 128)               1152      \n",
            "                                                                 \n",
            " batch_normalization_1 (Batc  (None, 128)              512       \n",
            " hNormalization)                                                 \n",
            "                                                                 \n",
            " dropout_1 (Dropout)         (None, 128)               0         \n",
            "                                                                 \n",
            " dense_6 (Dense)             (None, 256)               33024     \n",
            "                                                                 \n",
            " dense_7 (Dense)             (None, 784)               201488    \n",
            "                                                                 \n",
            " reshape (Reshape)           (None, 28, 28, 1)         0         \n",
            "                                                                 \n",
            "=================================================================\n",
            "Total params: 236,176\n",
            "Trainable params: 235,920\n",
            "Non-trainable params: 256\n",
            "_________________________________________________________________\n"
          ]
        }
      ]
    },
    {
      "cell_type": "code",
      "source": [
        "def vae_loss(x, decoded):\n",
        "        bce = tf.keras.losses.BinaryCrossentropy(from_logits=True)\n",
        "        x = keras.backend.reshape(x, shape=(50, 784))\n",
        "        decoded = keras.backend.reshape(decoded, shape=(50, 784))\n",
        "        loss = keras.backend.sum(keras.backend.square(x - decoded), axis=-1)\n",
        "        kl_loss = -0.5 * keras.backend.sum(1 + z_log_var - keras.backend.square(z_mean) - keras.backend.exp(z_log_var), axis=-1)\n",
        "        return (loss + kl_loss)"
      ],
      "metadata": {
        "id": "RPv_ijRzuB2F"
      },
      "execution_count": null,
      "outputs": []
    },
    {
      "cell_type": "code",
      "source": [
        "AE = keras.Model(Input_image, Decoder(Encoder(Input_image)))"
      ],
      "metadata": {
        "id": "bA_TEz9gNv-K"
      },
      "execution_count": null,
      "outputs": []
    },
    {
      "cell_type": "code",
      "source": [
        "AE.summary()"
      ],
      "metadata": {
        "colab": {
          "base_uri": "https://localhost:8080/"
        },
        "id": "pvYuo2KBsi2W",
        "outputId": "b5fece02-f7ca-4c04-8a0c-2f8b1f5a2dbb"
      },
      "execution_count": null,
      "outputs": [
        {
          "output_type": "stream",
          "name": "stdout",
          "text": [
            "Model: \"model_2\"\n",
            "_________________________________________________________________\n",
            " Layer (type)                Output Shape              Param #   \n",
            "=================================================================\n",
            " input_1 (InputLayer)        [(None, 28, 28)]          0         \n",
            "                                                                 \n",
            " model (Functional)          (None, 8)                 236056    \n",
            "                                                                 \n",
            " model_1 (Functional)        (None, 28, 28, 1)         236176    \n",
            "                                                                 \n",
            "=================================================================\n",
            "Total params: 472,232\n",
            "Trainable params: 471,464\n",
            "Non-trainable params: 768\n",
            "_________________________________________________________________\n"
          ]
        }
      ]
    },
    {
      "cell_type": "code",
      "source": [
        "AE.compile(optimizer=\"adam\", loss=vae_loss);"
      ],
      "metadata": {
        "id": "QfflpxlUs2FW"
      },
      "execution_count": null,
      "outputs": []
    },
    {
      "cell_type": "code",
      "source": [
        "AE.fit(x_train, x_train, epochs=15, batch_size=50, shuffle=1)"
      ],
      "metadata": {
        "colab": {
          "base_uri": "https://localhost:8080/"
        },
        "id": "S2hXDc6Ws9Bm",
        "outputId": "4945e869-0193-457e-dac7-d0d1c7107da6"
      },
      "execution_count": null,
      "outputs": [
        {
          "output_type": "stream",
          "name": "stdout",
          "text": [
            "Epoch 1/15\n",
            "1200/1200 [==============================] - 17s 9ms/step - loss: 44.4995\n",
            "Epoch 2/15\n",
            "1200/1200 [==============================] - 8s 7ms/step - loss: 30.3223\n",
            "Epoch 3/15\n",
            "1200/1200 [==============================] - 9s 7ms/step - loss: 29.1033\n",
            "Epoch 4/15\n",
            "1200/1200 [==============================] - 8s 7ms/step - loss: 28.7497\n",
            "Epoch 5/15\n",
            "1200/1200 [==============================] - 9s 7ms/step - loss: 28.4950\n",
            "Epoch 6/15\n",
            "1200/1200 [==============================] - 9s 7ms/step - loss: 28.3570\n",
            "Epoch 7/15\n",
            "1200/1200 [==============================] - 8s 7ms/step - loss: 28.2361\n",
            "Epoch 8/15\n",
            "1200/1200 [==============================] - 8s 7ms/step - loss: 28.1477\n",
            "Epoch 9/15\n",
            "1200/1200 [==============================] - 9s 7ms/step - loss: 28.0722\n",
            "Epoch 10/15\n",
            "1200/1200 [==============================] - 9s 7ms/step - loss: 27.9576\n",
            "Epoch 11/15\n",
            "1200/1200 [==============================] - 8s 7ms/step - loss: 27.9373\n",
            "Epoch 12/15\n",
            "1200/1200 [==============================] - 9s 8ms/step - loss: 27.8683\n",
            "Epoch 13/15\n",
            "1200/1200 [==============================] - 9s 7ms/step - loss: 27.8652\n",
            "Epoch 14/15\n",
            "1200/1200 [==============================] - 9s 7ms/step - loss: 27.8011\n",
            "Epoch 15/15\n",
            "1200/1200 [==============================] - 8s 7ms/step - loss: 27.7857\n"
          ]
        },
        {
          "output_type": "execute_result",
          "data": {
            "text/plain": [
              "<keras.callbacks.History at 0x7ef9a438abc0>"
            ]
          },
          "metadata": {},
          "execution_count": 10
        }
      ]
    },
    {
      "cell_type": "code",
      "source": [
        "distribution = Encoder.predict(x_test, batch_size=50)\n",
        "print(np.shape(distribution))\n",
        "plt.scatter(distribution[:,0], distribution[:,1]);\n",
        "\n"
      ],
      "metadata": {
        "colab": {
          "base_uri": "https://localhost:8080/",
          "height": 465
        },
        "id": "ohcJXUW7srvB",
        "outputId": "0e0c986b-d269-4d42-9485-ab23d9432388"
      },
      "execution_count": 15,
      "outputs": [
        {
          "output_type": "stream",
          "name": "stdout",
          "text": [
            "200/200 [==============================] - 0s 1ms/step\n",
            "(10000, 8)\n"
          ]
        },
        {
          "output_type": "display_data",
          "data": {
            "text/plain": [
              "<Figure size 640x480 with 1 Axes>"
            ],
            "image/png": "[encoded data removed]"
          },
          "metadata": {}
        }
      ]
    },
    {
      "cell_type": "code",
      "source": [
        "predicted_image = Decoder.predict(distribution);"
      ],
      "metadata": {
        "id": "EDHllGQTuieV",
        "colab": {
          "base_uri": "https://localhost:8080/"
        },
        "outputId": "bf8f96f2-3720-4d72-e8b0-3fc11e2bc90d"
      },
      "execution_count": 16,
      "outputs": [
        {
          "output_type": "stream",
          "name": "stdout",
          "text": [
            "313/313 [==============================] - 0s 1ms/step\n"
          ]
        }
      ]
    },
    {
      "cell_type": "code",
      "source": [],
      "metadata": {
        "id": "0l1E3LthsJWG"
      },
      "execution_count": null,
      "outputs": []
    }
  ]
}